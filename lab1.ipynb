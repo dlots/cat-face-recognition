{
  "nbformat": 4,
  "nbformat_minor": 5,
  "metadata": {
    "kernelspec": {
      "display_name": "Python 3 (ipykernel)",
      "language": "python",
      "name": "python3"
    },
    "language_info": {
      "codemirror_mode": {
        "name": "ipython",
        "version": 3
      },
      "file_extension": ".py",
      "mimetype": "text/x-python",
      "name": "python",
      "nbconvert_exporter": "python",
      "pygments_lexer": "ipython3",
      "version": "3.9.6"
    },
    "colab": {
      "name": "lab1.ipynb",
      "provenance": [],
      "collapsed_sections": []
    },
    "accelerator": "GPU"
  },
  "cells": [
    {
      "cell_type": "code",
      "metadata": {
        "id": "c6431ddb"
      },
      "source": [
        "from torchvision.datasets import ImageFolder\n",
        "from torch.utils.data import DataLoader\n",
        "import torchvision.transforms as transforms\n",
        "import torch\n",
        "import torch.nn as nn\n",
        "import torch.optim as optim\n",
        "import matplotlib.pyplot as plt\n",
        "import numpy as np\n",
        "import time\n",
        "import copy"
      ],
      "id": "c6431ddb",
      "execution_count": 1,
      "outputs": []
    },
    {
      "cell_type": "code",
      "metadata": {
        "id": "4L0t5YWI5hYE"
      },
      "source": [
        "import torchvision.models as models"
      ],
      "id": "4L0t5YWI5hYE",
      "execution_count": null,
      "outputs": []
    },
    {
      "cell_type": "code",
      "metadata": {
        "colab": {
          "base_uri": "https://localhost:8080/"
        },
        "id": "shSrbiardeYx",
        "outputId": "3da298c6-8d0e-4049-ea1f-c38c0690d392"
      },
      "source": [
        "from google.colab import drive\n",
        "drive.mount('/content/drive')"
      ],
      "id": "shSrbiardeYx",
      "execution_count": null,
      "outputs": [
        {
          "output_type": "stream",
          "name": "stdout",
          "text": [
            "Mounted at /content/drive\n"
          ]
        }
      ]
    },
    {
      "cell_type": "code",
      "metadata": {
        "id": "A-zQhcq_d_dN"
      },
      "source": [
        "import os\n",
        "os.chdir(os.path.join('drive', 'MyDrive'))"
      ],
      "id": "A-zQhcq_d_dN",
      "execution_count": null,
      "outputs": []
    },
    {
      "cell_type": "markdown",
      "metadata": {
        "id": "c7e1d897"
      },
      "source": [
        "https://github.com/fferlito/Cat-faces-dataset"
      ],
      "id": "c7e1d897"
    },
    {
      "cell_type": "code",
      "metadata": {
        "id": "71a27638"
      },
      "source": [
        "from typing import Tuple, Any\n",
        "\n",
        "class AlbumentationsImageFolder(ImageFolder):\n",
        "    def __init__(self, path, transforms):\n",
        "        super(AlbumentationsImageFolder, self).__init__(path, transform=transforms)\n",
        "    \n",
        "    def __getitem__(self, index: int) -> Tuple[Any, Any]:\n",
        "        \"\"\"\n",
        "        Args:\n",
        "            index (int): Index\n",
        "\n",
        "        Returns:\n",
        "            tuple: (sample, target) where target is class_index of the target class.\n",
        "        \"\"\"\n",
        "        path, target = self.samples[index]\n",
        "        sample = self.loader(path)\n",
        "        if self.transform is not None:\n",
        "            sample = np.array(sample)\n",
        "            sample = self.transform(image=sample)\n",
        "        if self.target_transform is not None:\n",
        "\n",
        "            target = self.target_transform(target)\n",
        "\n",
        "        return sample['image']/1.0, target"
      ],
      "id": "71a27638",
      "execution_count": null,
      "outputs": []
    },
    {
      "cell_type": "code",
      "metadata": {
        "id": "1ef4be5b"
      },
      "source": [
        "from sklearn.utils import shuffle\n",
        "\n",
        "\n",
        "class MyDataLoaderIterator():\n",
        "  def __init__(self, loader):\n",
        "    self.loader = loader\n",
        "\n",
        "  def __next__(self):\n",
        "    labels = []\n",
        "    data = []\n",
        "    for kubik_index in range(self.loader.kubik_len):\n",
        "        #print(kubik_index)\n",
        "        for i in range(self.loader.repeats):\n",
        "            kubik = self.loader.dataset[kubik_index]\n",
        "            data.append(kubik[0])\n",
        "            labels.append(kubik[1])\n",
        "    #print('kubik sampled')\n",
        "    rng = np.random.default_rng()\n",
        "    indices = rng.choice(np.arange(self.loader.kubik_len, len(self.loader.dataset)), size=self.loader.kubik_size, replace=False)\n",
        "    for not_kubik_index in indices:\n",
        "        not_kubik = self.loader.dataset[not_kubik_index]\n",
        "        data.append(not_kubik[0])\n",
        "        labels.append(not_kubik[1])\n",
        "    #print('rest sampled')\n",
        "    data, labels = shuffle(data, labels)\n",
        "    return torch.stack(data), torch.tensor(labels)\n",
        "    raise StopIteration\n",
        "\n",
        "class MyDataLoader():\n",
        "    def __init__(self, dataset, kubik_len, repeats=5):\n",
        "        self.dataset = dataset\n",
        "        self.kubik_len = kubik_len\n",
        "        self.repeats = repeats\n",
        "        self.kubik_size = self.kubik_len * self.repeats\n",
        "        \n",
        "    def __iter__(self):\n",
        "        return MyDataLoaderIterator(self)"
      ],
      "id": "1ef4be5b",
      "execution_count": null,
      "outputs": []
    },
    {
      "cell_type": "code",
      "metadata": {
        "colab": {
          "base_uri": "https://localhost:8080/"
        },
        "id": "N5XhxHrvjtrq",
        "outputId": "25aabaca-e564-4130-9659-82214d38d1d0"
      },
      "source": [
        "!pip install -U git+https://github.com/albumentations-team/albumentations"
      ],
      "id": "N5XhxHrvjtrq",
      "execution_count": null,
      "outputs": [
        {
          "output_type": "stream",
          "name": "stdout",
          "text": [
            "Collecting git+https://github.com/albumentations-team/albumentations\n",
            "  Cloning https://github.com/albumentations-team/albumentations to /tmp/pip-req-build-usb_xfep\n",
            "  Running command git clone -q https://github.com/albumentations-team/albumentations /tmp/pip-req-build-usb_xfep\n",
            "Requirement already satisfied: numpy>=1.11.1 in /usr/local/lib/python3.7/dist-packages (from albumentations==1.1.0) (1.19.5)\n",
            "Requirement already satisfied: scipy in /usr/local/lib/python3.7/dist-packages (from albumentations==1.1.0) (1.4.1)\n",
            "Requirement already satisfied: scikit-image>=0.16.1 in /usr/local/lib/python3.7/dist-packages (from albumentations==1.1.0) (0.16.2)\n",
            "Requirement already satisfied: PyYAML in /usr/local/lib/python3.7/dist-packages (from albumentations==1.1.0) (3.13)\n",
            "Collecting qudida>=0.0.4\n",
            "  Downloading qudida-0.0.4-py3-none-any.whl (3.5 kB)\n",
            "Requirement already satisfied: opencv-python>=4.1.1 in /usr/local/lib/python3.7/dist-packages (from albumentations==1.1.0) (4.1.2.30)\n",
            "Requirement already satisfied: typing-extensions in /usr/local/lib/python3.7/dist-packages (from qudida>=0.0.4->albumentations==1.1.0) (3.7.4.3)\n",
            "Collecting opencv-python-headless>=4.0.1\n",
            "  Downloading opencv_python_headless-4.5.3.56-cp37-cp37m-manylinux2014_x86_64.whl (37.1 MB)\n",
            "\u001b[K     |████████████████████████████████| 37.1 MB 48 kB/s \n",
            "\u001b[?25hRequirement already satisfied: scikit-learn>=0.19.1 in /usr/local/lib/python3.7/dist-packages (from qudida>=0.0.4->albumentations==1.1.0) (0.22.2.post1)\n",
            "Requirement already satisfied: networkx>=2.0 in /usr/local/lib/python3.7/dist-packages (from scikit-image>=0.16.1->albumentations==1.1.0) (2.6.3)\n",
            "Requirement already satisfied: PyWavelets>=0.4.0 in /usr/local/lib/python3.7/dist-packages (from scikit-image>=0.16.1->albumentations==1.1.0) (1.1.1)\n",
            "Requirement already satisfied: pillow>=4.3.0 in /usr/local/lib/python3.7/dist-packages (from scikit-image>=0.16.1->albumentations==1.1.0) (7.1.2)\n",
            "Requirement already satisfied: imageio>=2.3.0 in /usr/local/lib/python3.7/dist-packages (from scikit-image>=0.16.1->albumentations==1.1.0) (2.4.1)\n",
            "Requirement already satisfied: matplotlib!=3.0.0,>=2.0.0 in /usr/local/lib/python3.7/dist-packages (from scikit-image>=0.16.1->albumentations==1.1.0) (3.2.2)\n",
            "Requirement already satisfied: python-dateutil>=2.1 in /usr/local/lib/python3.7/dist-packages (from matplotlib!=3.0.0,>=2.0.0->scikit-image>=0.16.1->albumentations==1.1.0) (2.8.2)\n",
            "Requirement already satisfied: cycler>=0.10 in /usr/local/lib/python3.7/dist-packages (from matplotlib!=3.0.0,>=2.0.0->scikit-image>=0.16.1->albumentations==1.1.0) (0.10.0)\n",
            "Requirement already satisfied: pyparsing!=2.0.4,!=2.1.2,!=2.1.6,>=2.0.1 in /usr/local/lib/python3.7/dist-packages (from matplotlib!=3.0.0,>=2.0.0->scikit-image>=0.16.1->albumentations==1.1.0) (2.4.7)\n",
            "Requirement already satisfied: kiwisolver>=1.0.1 in /usr/local/lib/python3.7/dist-packages (from matplotlib!=3.0.0,>=2.0.0->scikit-image>=0.16.1->albumentations==1.1.0) (1.3.2)\n",
            "Requirement already satisfied: six in /usr/local/lib/python3.7/dist-packages (from cycler>=0.10->matplotlib!=3.0.0,>=2.0.0->scikit-image>=0.16.1->albumentations==1.1.0) (1.15.0)\n",
            "Requirement already satisfied: joblib>=0.11 in /usr/local/lib/python3.7/dist-packages (from scikit-learn>=0.19.1->qudida>=0.0.4->albumentations==1.1.0) (1.0.1)\n",
            "Building wheels for collected packages: albumentations\n",
            "  Building wheel for albumentations (setup.py) ... \u001b[?25l\u001b[?25hdone\n",
            "  Created wheel for albumentations: filename=albumentations-1.1.0-py3-none-any.whl size=102899 sha256=205afe9935e05a4af849cedc27fe41ef5888723596f9d4fac08bfabb21c46b40\n",
            "  Stored in directory: /tmp/pip-ephem-wheel-cache-_dosps00/wheels/3a/25/ed/ec3b518e7a332d7f0a3bb37c280e1b784cf2f79b94b3c7d00b\n",
            "Successfully built albumentations\n",
            "Installing collected packages: opencv-python-headless, qudida, albumentations\n",
            "  Attempting uninstall: albumentations\n",
            "    Found existing installation: albumentations 0.1.12\n",
            "    Uninstalling albumentations-0.1.12:\n",
            "      Successfully uninstalled albumentations-0.1.12\n",
            "Successfully installed albumentations-1.1.0 opencv-python-headless-4.5.3.56 qudida-0.0.4\n"
          ]
        }
      ]
    },
    {
      "cell_type": "code",
      "metadata": {
        "id": "e264918c"
      },
      "source": [
        "import albumentations\n",
        "import albumentations.pytorch as atorch"
      ],
      "id": "e264918c",
      "execution_count": null,
      "outputs": []
    },
    {
      "cell_type": "code",
      "metadata": {
        "id": "74526913"
      },
      "source": [
        "albumentations_transform = albumentations.Compose([\n",
        "    albumentations.Resize(64, 64),\n",
        "    albumentations.RandomCrop(55, 55),\n",
        "    atorch.ToTensorV2()\n",
        "])\n",
        "\n",
        "albumentations_transform_oneof = albumentations.Compose([\n",
        "    albumentations.Resize(64, 64), \n",
        "    albumentations.RandomCrop(55, 55),\n",
        "    albumentations.OneOf([\n",
        "                          albumentations.HorizontalFlip(p=1),\n",
        "                          albumentations.RandomRotate90(p=1),\n",
        "                          albumentations.VerticalFlip(p=1)            \n",
        "    ], p=1),\n",
        "    albumentations.OneOf([\n",
        "                          albumentations.MotionBlur(p=1),\n",
        "                          albumentations.OpticalDistortion(p=1),\n",
        "                          albumentations.GaussNoise(p=1)                 \n",
        "    ], p=1),\n",
        "    atorch.ToTensorV2()\n",
        "])\n",
        "\n",
        "cats_train = AlbumentationsImageFolder('./cats/train', albumentations_transform_oneof)\n",
        "cats_test = AlbumentationsImageFolder('./cats/test', albumentations_transform)"
      ],
      "id": "74526913",
      "execution_count": null,
      "outputs": []
    },
    {
      "cell_type": "code",
      "metadata": {
        "id": "061662f6",
        "colab": {
          "base_uri": "https://localhost:8080/"
        },
        "outputId": "cfb61bc9-710d-49a3-aa03-8711d370b363"
      },
      "source": [
        "len(cats_train)"
      ],
      "id": "061662f6",
      "execution_count": null,
      "outputs": [
        {
          "output_type": "execute_result",
          "data": {
            "text/plain": [
              "1060"
            ]
          },
          "metadata": {},
          "execution_count": 11
        }
      ]
    },
    {
      "cell_type": "code",
      "metadata": {
        "id": "695cf34a",
        "colab": {
          "base_uri": "https://localhost:8080/"
        },
        "outputId": "550749d0-4104-4ec0-91d3-1a9d99de3b53"
      },
      "source": [
        "len(cats_test)"
      ],
      "id": "695cf34a",
      "execution_count": null,
      "outputs": [
        {
          "output_type": "execute_result",
          "data": {
            "text/plain": [
              "530"
            ]
          },
          "metadata": {},
          "execution_count": 12
        }
      ]
    },
    {
      "cell_type": "code",
      "metadata": {
        "id": "0da599f0",
        "colab": {
          "base_uri": "https://localhost:8080/"
        },
        "outputId": "c6998226-7232-4aed-cc21-f3c9a89beb3b"
      },
      "source": [
        "cats_train[0][0]"
      ],
      "id": "0da599f0",
      "execution_count": null,
      "outputs": [
        {
          "output_type": "execute_result",
          "data": {
            "text/plain": [
              "tensor([[[ 80.,  87.,  82.,  ...,  86.,  87.,  87.],\n",
              "         [105., 103.,  96.,  ...,  80.,  80.,  80.],\n",
              "         [113., 102.,  96.,  ...,  79.,  77.,  76.],\n",
              "         ...,\n",
              "         [ 62.,  59.,  53.,  ..., 109., 111., 118.],\n",
              "         [ 74.,  67.,  61.,  ..., 113., 118., 126.],\n",
              "         [ 93.,  81.,  72.,  ..., 105., 109., 113.]],\n",
              "\n",
              "        [[ 71.,  78.,  71.,  ...,  58.,  57.,  57.],\n",
              "         [ 95.,  93.,  84.,  ...,  53.,  53.,  53.],\n",
              "         [103.,  92.,  85.,  ...,  51.,  50.,  48.],\n",
              "         ...,\n",
              "         [ 59.,  56.,  50.,  ...,  88.,  90.,  97.],\n",
              "         [ 71.,  64.,  58.,  ...,  93.,  98., 106.],\n",
              "         [ 90.,  79.,  69.,  ...,  85.,  89.,  93.]],\n",
              "\n",
              "        [[ 61.,  69.,  63.,  ...,  50.,  49.,  49.],\n",
              "         [ 86.,  84.,  76.,  ...,  45.,  45.,  45.],\n",
              "         [ 94.,  83.,  76.,  ...,  45.,  43.,  42.],\n",
              "         ...,\n",
              "         [ 52.,  49.,  43.,  ...,  80.,  81.,  87.],\n",
              "         [ 63.,  56.,  51.,  ...,  85.,  89.,  97.],\n",
              "         [ 78.,  66.,  59.,  ...,  77.,  81.,  85.]]])"
            ]
          },
          "metadata": {},
          "execution_count": 13
        }
      ]
    },
    {
      "cell_type": "code",
      "metadata": {
        "id": "e7f70e9c"
      },
      "source": [
        "def plot_image(image, truth=None, pred=None):\n",
        "    if truth is not None and pred is not None:\n",
        "      if truth == 0:\n",
        "        truth = 'Kubik'\n",
        "      else:\n",
        "        truth = 'Not Kubik'\n",
        "      if pred == 0:\n",
        "        pred = 'Kubik'\n",
        "      else:\n",
        "        pred = 'Not Kubik'\n",
        "      plt.title('truth: ' + truth + ', pred: ' + pred)\n",
        "    plt.imshow(image.int().permute(1,2,0))\n",
        "    plt.show()"
      ],
      "id": "e7f70e9c",
      "execution_count": null,
      "outputs": []
    },
    {
      "cell_type": "code",
      "metadata": {
        "id": "155328f6",
        "colab": {
          "base_uri": "https://localhost:8080/",
          "height": 531
        },
        "outputId": "55288c49-388f-47bb-bde4-0858e05d34f3"
      },
      "source": [
        "plot_image(cats_train[0][0], 0, 0)\n",
        "plot_image(cats_test[1][0])"
      ],
      "id": "155328f6",
      "execution_count": null,
      "outputs": [
        {
          "output_type": "display_data",
          "data": {
            "image/png": "[encoded data removed]",
            "text/plain": [
              "<Figure size 432x288 with 1 Axes>"
            ]
          },
          "metadata": {
            "needs_background": "light"
          }
        },
        {
          "output_type": "display_data",
          "data": {
            "image/png": "[encoded data removed]",
            "text/plain": [
              "<Figure size 432x288 with 1 Axes>"
            ]
          },
          "metadata": {
            "needs_background": "light"
          }
        }
      ]
    },
    {
      "cell_type": "code",
      "metadata": {
        "id": "e4e2b69b"
      },
      "source": [
        "kubik_label = cats_train[0][1]\n",
        "not_kubik_label = 1 - kubik_label"
      ],
      "id": "e4e2b69b",
      "execution_count": null,
      "outputs": []
    },
    {
      "cell_type": "code",
      "metadata": {
        "id": "c0220454",
        "colab": {
          "base_uri": "https://localhost:8080/",
          "height": 517
        },
        "outputId": "07b483ba-c9fc-4cb9-d66b-c5dcd1659e16"
      },
      "source": [
        "kubik_train_len = 60\n",
        "plot_image(cats_train[3])\n",
        "plot_image(cats_train[kubik_train_len])"
      ],
      "id": "c0220454",
      "execution_count": null,
      "outputs": [
        {
          "output_type": "display_data",
          "data": {
            "image/png": "[encoded data removed]",
            "text/plain": [
              "<Figure size 432x288 with 1 Axes>"
            ]
          },
          "metadata": {
            "needs_background": "light"
          }
        },
        {
          "output_type": "display_data",
          "data": {
            "image/png": "[encoded data removed]",
            "text/plain": [
              "<Figure size 432x288 with 1 Axes>"
            ]
          },
          "metadata": {
            "needs_background": "light"
          }
        }
      ]
    },
    {
      "cell_type": "code",
      "metadata": {
        "id": "BIFSP60tkFan"
      },
      "source": [
        "kubik_test_len = 30\n",
        "train_loader = MyDataLoader(cats_train, kubik_train_len)\n",
        "test_loader = MyDataLoader(cats_test, kubik_test_len)\n",
        "#next(iter(loader))"
      ],
      "id": "BIFSP60tkFan",
      "execution_count": null,
      "outputs": []
    },
    {
      "cell_type": "code",
      "metadata": {
        "id": "xv9pN5rMq2mH"
      },
      "source": [
        "from IPython.display import clear_output\n",
        "\n",
        "class EpochPlotter():\n",
        "  def __init__(self):\n",
        "    self.current_epoch = 0\n",
        "    self.epochs_axis = []\n",
        "    self.train_losses = []\n",
        "    self.test_losses = []\n",
        "    self.train_accuracies = []\n",
        "    self.test_accuracies = []\n",
        "\n",
        "  def __call__(self, train_loss, train_accuracy, test_loss, test_accuracy):\n",
        "    self.epochs_axis.append(self.current_epoch)\n",
        "    self.train_losses.append(train_loss)\n",
        "    self.train_accuracies.append(train_accuracy)\n",
        "    self.test_losses.append(test_loss)\n",
        "    self.test_accuracies.append(test_accuracy)\n",
        "    self.current_epoch += 1\n",
        "\n",
        "    clear_output(wait=True)\n",
        "    plt.figure(figsize=(10,5))\n",
        "    plt.plot(self.epochs_axis, self.train_losses, label=\"train_loss\")\n",
        "    plt.plot(self.epochs_axis, self.test_losses, label=\"test_loss\")\n",
        "    plt.plot(self.epochs_axis, self.train_accuracies, '--',label=\"train_accuracy\")\n",
        "    plt.plot(self.epochs_axis, self.test_accuracies, '--', label=\"test_accuracy\")\n",
        "    plt.grid()\n",
        "    plt.xlabel('epoch')\n",
        "    plt.legend()\n",
        "    plt.show()"
      ],
      "id": "xv9pN5rMq2mH",
      "execution_count": null,
      "outputs": []
    },
    {
      "cell_type": "code",
      "metadata": {
        "colab": {
          "base_uri": "https://localhost:8080/"
        },
        "id": "2DdHlfwk6Qnv",
        "outputId": "5b645c99-b5cc-4f76-be02-4b77d0b0085f"
      },
      "source": [
        "device = torch.device('cuda')\n",
        "model = models.squeezenet1_1(pretrained=False).to(device)\n",
        "import time\n",
        "loss_fn = nn.CrossEntropyLoss()\n",
        "lr = 0.001\n",
        "optimizer = torch.optim.SGD(model.parameters(), lr=lr)\n",
        " \n",
        "for epoch in range(50):\n",
        " \n",
        "  success_pred = 0\n",
        " \n",
        "  model.train()\n",
        " \n",
        "  part_len = 10\n",
        "  data, labels = iter(train_loader).__next__()\n",
        "  data, labels = data.to(device), labels.to(device)\n",
        "\n",
        "  #print(labels[:10])\n",
        "  for i in range(int(len(labels)/part_len)):\n",
        "    cur = part_len*i\n",
        "    next = part_len*(i+1)\n",
        "    data_part = data[cur:next]\n",
        "    labels_part = labels[cur:next]\n",
        "\n",
        "    y_pred = model(data_part)\n",
        "    loss = loss_fn(y_pred, labels_part)\n",
        "\n",
        "    optimizer.zero_grad()\n",
        "    loss.backward()\n",
        "    optimizer.step()\n",
        "    y_classes = y_pred.argmax(axis=1)\n",
        "    #print(y_classes)\n",
        "    success_pred += (y_classes == labels_part).sum()\n",
        " \n",
        "  train_accuracy = success_pred/len(labels)\n",
        " \n",
        "  model.eval()\n",
        "  test_count = 0\n",
        "  with torch.no_grad():\n",
        "      time1 = time.time()\n",
        "      part_len = 10\n",
        "      data, labels = iter(train_loader).__next__()\n",
        "      data, labels = data.to(device), labels.to(device)\n",
        "      for i in range(int(len(labels)/part_len)):\n",
        "          cur = part_len*i\n",
        "          next = part_len*(i+1)\n",
        "          data_part = data[cur:next]\n",
        "          labels_part = labels[cur:next]\n",
        "          y_pred = model(data_part)\n",
        "          test_count += (y_pred.argmax(axis=1) == labels_part).sum()\n",
        "  test_acc = test_count/len(labels)\n",
        " \n",
        "  print(epoch, \" Train acc:\", train_accuracy.item(), \"   Test accuracy:\", test_acc.item())"
      ],
      "id": "2DdHlfwk6Qnv",
      "execution_count": null,
      "outputs": [
        {
          "output_type": "stream",
          "name": "stdout",
          "text": [
            "0  Train acc: 0.49166667461395264    Test accuracy: 0.4866666793823242\n",
            "1  Train acc: 0.5583333373069763    Test accuracy: 0.5\n",
            "2  Train acc: 0.5266667008399963    Test accuracy: 0.5383333563804626\n",
            "3  Train acc: 0.5766666531562805    Test accuracy: 0.5316666960716248\n",
            "4  Train acc: 0.5699999928474426    Test accuracy: 0.5450000166893005\n",
            "5  Train acc: 0.6266666650772095    Test accuracy: 0.6166666746139526\n",
            "6  Train acc: 0.6150000095367432    Test accuracy: 0.5800000429153442\n",
            "7  Train acc: 0.621666669845581    Test accuracy: 0.5516666769981384\n",
            "8  Train acc: 0.621666669845581    Test accuracy: 0.59333336353302\n",
            "9  Train acc: 0.6483333706855774    Test accuracy: 0.7416666746139526\n",
            "10  Train acc: 0.6966666579246521    Test accuracy: 0.6366666555404663\n",
            "11  Train acc: 0.7100000381469727    Test accuracy: 0.6183333396911621\n",
            "12  Train acc: 0.7200000286102295    Test accuracy: 0.6600000262260437\n",
            "13  Train acc: 0.7116667032241821    Test accuracy: 0.768333375453949\n",
            "14  Train acc: 0.71833336353302    Test accuracy: 0.518333375453949\n",
            "15  Train acc: 0.6833333373069763    Test accuracy: 0.746666669845581\n",
            "16  Train acc: 0.7400000095367432    Test accuracy: 0.7166666984558105\n",
            "17  Train acc: 0.7400000095367432    Test accuracy: 0.7116667032241821\n",
            "18  Train acc: 0.7716667056083679    Test accuracy: 0.79666668176651\n",
            "19  Train acc: 0.7483333349227905    Test accuracy: 0.7916666865348816\n",
            "20  Train acc: 0.7583333253860474    Test accuracy: 0.7316666841506958\n",
            "21  Train acc: 0.7666667103767395    Test accuracy: 0.7549999952316284\n",
            "22  Train acc: 0.7250000238418579    Test accuracy: 0.7050000429153442\n",
            "23  Train acc: 0.7416666746139526    Test accuracy: 0.8216666579246521\n",
            "24  Train acc: 0.800000011920929    Test accuracy: 0.8199999928474426\n",
            "25  Train acc: 0.8266667127609253    Test accuracy: 0.7733333706855774\n",
            "26  Train acc: 0.7850000262260437    Test accuracy: 0.8199999928474426\n",
            "27  Train acc: 0.76500004529953    Test accuracy: 0.7516666650772095\n",
            "28  Train acc: 0.8050000071525574    Test accuracy: 0.800000011920929\n",
            "29  Train acc: 0.7833333611488342    Test accuracy: 0.8116666674613953\n",
            "30  Train acc: 0.7950000166893005    Test accuracy: 0.7883333563804626\n",
            "31  Train acc: 0.7883333563804626    Test accuracy: 0.7900000214576721\n",
            "32  Train acc: 0.79666668176651    Test accuracy: 0.7900000214576721\n",
            "33  Train acc: 0.8300000429153442    Test accuracy: 0.8216666579246521\n",
            "34  Train acc: 0.7983333468437195    Test accuracy: 0.8183333277702332\n",
            "35  Train acc: 0.8233333826065063    Test accuracy: 0.7866666913032532\n",
            "36  Train acc: 0.7950000166893005    Test accuracy: 0.75\n",
            "37  Train acc: 0.800000011920929    Test accuracy: 0.7950000166893005\n",
            "38  Train acc: 0.8133333325386047    Test accuracy: 0.8233333826065063\n",
            "39  Train acc: 0.8116666674613953    Test accuracy: 0.8283333778381348\n",
            "40  Train acc: 0.800000011920929    Test accuracy: 0.8066666722297668\n",
            "41  Train acc: 0.8300000429153442    Test accuracy: 0.7866666913032532\n",
            "42  Train acc: 0.7950000166893005    Test accuracy: 0.8383333683013916\n",
            "43  Train acc: 0.8066666722297668    Test accuracy: 0.8100000023841858\n",
            "44  Train acc: 0.7850000262260437    Test accuracy: 0.8233333826065063\n",
            "45  Train acc: 0.7850000262260437    Test accuracy: 0.8199999928474426\n",
            "46  Train acc: 0.8149999976158142    Test accuracy: 0.8266667127609253\n",
            "47  Train acc: 0.8266667127609253    Test accuracy: 0.8199999928474426\n",
            "48  Train acc: 0.8500000238418579    Test accuracy: 0.8016666769981384\n",
            "49  Train acc: 0.8233333826065063    Test accuracy: 0.8633333444595337\n"
          ]
        }
      ]
    },
    {
      "cell_type": "code",
      "metadata": {
        "id": "KfdAYQ4poqG0"
      },
      "source": [
        "y_pred = model(data)\n",
        "y_classes = y_pred.argmax(axis=1)"
      ],
      "id": "KfdAYQ4poqG0",
      "execution_count": null,
      "outputs": []
    },
    {
      "cell_type": "code",
      "metadata": {
        "id": "sxP-TDrjniWw"
      },
      "source": [
        ""
      ],
      "id": "sxP-TDrjniWw",
      "execution_count": null,
      "outputs": []
    }
  ]
}